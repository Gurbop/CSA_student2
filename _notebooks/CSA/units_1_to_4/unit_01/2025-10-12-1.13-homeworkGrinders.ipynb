{
 "cells": [
  {
   "cell_type": "raw",
   "id": "354709c5",
   "metadata": {
    "vscode": {
     "languageId": "raw"
    }
   },
   "source": [
    "---\n",
    "layout: post\n",
    "toc: true\n",
    "title: Object Creation and Storage (Instantiation)\n",
    "permalink: /csa/unit_01/1_13/homework\n",
    "authors: Nora, Soni, Avika\n",
    "---"
   ]
  },
  {
   "cell_type": "code",
   "execution_count": 2,
   "id": "4fa4bd60",
   "metadata": {
    "vscode": {
     "languageId": "java"
    }
   },
   "outputs": [],
   "source": [
    "public class ObjectCreation {\n",
    "    public static void main(String[] args) {\n",
    "        // 1. Create two Car objects using 'new'\n",
    "        Car car1 = new Car(\"Tesla\", 2024);\n",
    "        Car car2 = new Car(\"Toyota\", 2018);\n",
    "\n",
    "        // 2. Print each car's info\n",
    "        System.out.println(car1);\n",
    "        System.out.println(car2);\n",
    "    }\n",
    "}\n",
    "\n",
    "class Car {\n",
    "    // 1. Declare variables: brand, year\n",
    "    private String brand;\n",
    "    private int year;\n",
    "\n",
    "    // 2. Create a constructor to set those variables\n",
    "    public Car(String brand, int year) {\n",
    "        this.brand = brand;\n",
    "        this.year = year;\n",
    "    }\n",
    "\n",
    "    // 3. Add a method or toString() to display car info\n",
    "    @Override\n",
    "    public String toString() {\n",
    "        return \"Car brand: \" + brand + \", Year: \" + year;\n",
    "    }\n",
    "}"
   ]
  },
  {
   "cell_type": "markdown",
   "id": "62c0c3d4",
   "metadata": {},
   "source": [
    "Car brand: Tesla, Year: 2024\n",
    "Car brand: Toyota, Year: 2018"
   ]
  },
  {
   "cell_type": "markdown",
   "id": "5dfeb6ec",
   "metadata": {},
   "source": [
    "## Homework Hack #2 — Heap vs Stack Storage Demo\n",
    "\n",
    "**Goal** - Understand where data is stored in memory — stack vs heap.\n",
    "<br>\n",
    "Instructions:\n",
    "- Create a Book class with one variable: String title.\n",
    "- In main(), create:\n",
    "- A primitive variable (e.g. int pages = 300;)\n",
    "- A Book object (e.g. Book b1 = new Book(\"Java Basics\");)\n",
    "- Copy both into new variables (int pagesCopy = pages;, Book b2 = b1;)\n",
    "<br>\n",
    "Change the original values and print everything — watch what changes."
   ]
  },
  {
   "cell_type": "code",
   "execution_count": null,
   "id": "87b5929f",
   "metadata": {
    "vscode": {
     "languageId": "java"
    }
   },
   "outputs": [],
   "source": [
    "public class HeapVsStack {\n",
    "    public static void main(String[] args) {\n",
    "        // 1. Create a primitive variable (int pages)\n",
    "        int pages = 100;\n",
    "\n",
    "        // 2. Create another primitive variable that copies it\n",
    "        int copiedPages = pages;\n",
    "\n",
    "        // 3. Create a Book object\n",
    "        Book b1 = new Book(\"Java Basics\");\n",
    "\n",
    "        // 4. Create another Book reference (b2 points to the same object as b1)\n",
    "        Book b2 = b1;\n",
    "\n",
    "        // 5. Change the original primitive and the Book title\n",
    "        pages = 150;           // change primitive 'pages'\n",
    "        b1.setTitle(\"Advanced Java\"); // change object's title through b1 reference\n",
    "\n",
    "        // 6. Print both sets of values to compare behavior\n",
    "        System.out.println(\"Primitive values:\");\n",
    "        System.out.println(\"pages = \" + pages);           // 150\n",
    "        System.out.println(\"copiedPages = \" + copiedPages); // 100 (unchanged)\n",
    "\n",
    "        System.out.println(\"\\nObject references:\");\n",
    "        System.out.println(\"b1 = \" + b1); // title: Advanced Java\n",
    "        System.out.println(\"b2 = \" + b2); // title: Advanced Java (same object as b1)\n",
    "    }\n",
    "}\n",
    "\n",
    "class Book {\n",
    "    // 1. Declare variable: String title\n",
    "    private String title;\n",
    "\n",
    "    // 2. Create a constructor to set the title\n",
    "    public Book(String title) {\n",
    "        this.title = title;\n",
    "    }\n",
    "\n",
    "    // Setter to change title\n",
    "    public void setTitle(String title) {\n",
    "        this.title = title;\n",
    "    }\n",
    "\n",
    "    // 3. Create a toString() to show the title\n",
    "    @Override\n",
    "    public String toString() {\n",
    "        return \"Book title: \" + title;\n",
    "    }\n",
    "}\n"
   ]
  },
  {
   "cell_type": "markdown",
   "id": "4d981d8d",
   "metadata": {},
   "source": [
    "Primitive values:\n",
    "pages = 150\n",
    "copiedPages = 100\n",
    "\n",
    "Object references:\n",
    "b1 = Book title: Advanced Java\n",
    "b2 = Book title: Advanced Java\n"
   ]
  }
 ],
 "metadata": {
  "kernelspec": {
   "display_name": "Java",
   "language": "java",
   "name": "java"
  },
  "language_info": {
   "codemirror_mode": "java",
   "file_extension": ".jshell",
   "mimetype": "text/x-java-source",
   "name": "Java",
   "pygments_lexer": "java",
   "version": "21.0.8+9-Ubuntu-0ubuntu124.04.1"
  }
 },
 "nbformat": 4,
 "nbformat_minor": 5
}
