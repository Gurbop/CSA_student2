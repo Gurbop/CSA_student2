{
 "cells": [
  {
   "cell_type": "raw",
   "id": "bc117346",
   "metadata": {
    "vscode": {
     "languageId": "raw"
    }
   },
   "source": [
    "---\n",
    "layout: post\n",
    "toc: true\n",
    "title: Calling Instance Methods\n",
    "menu: nav/CSA_Nunits/csaunit1.html\n",
    "permalink: /csa/unit_01/1_14\n",
    "author: Risha, Aadi, Neil\n",
    "---"
   ]
  },
  {
   "cell_type": "markdown",
   "id": "59676d5b",
   "metadata": {},
   "source": [
    "## What is an instance method?\n",
    "\n",
    "An **instance method** is a method (function) defined in a class that operates on a particular instance (object) of that class.\n",
    "\n",
    "- It can access that object’s instance variables (its state) and perform actions using or modifying them.\n",
    "- To use an instance method, you first need an object (an instance), then you call the method via that object."
   ]
  },
  {
   "cell_type": "markdown",
   "id": "4cfe67c0",
   "metadata": {},
   "source": [
    "### Class methods vs. instance methods\n",
    "\n",
    "| Kind           | Called on         | Can access                  | Typical use                         |\n",
    "|----------------|-------------------|-----------------------------|-------------------------------------|\n",
    "| Class method   | the class itself  | only static/class variables | behavior common to all objects       |\n",
    "| Instance method| a specific object | that object’s instance variables | behavior specific to that one object |\n"
   ]
  },
  {
   "cell_type": "markdown",
   "id": "f8f90c13",
   "metadata": {},
   "source": [
    "### Visual: Calling Instance Methods\n"
   ]
  },
  {
   "cell_type": "markdown",
   "id": "500189bb",
   "metadata": {
    "vscode": {
     "languageId": "html"
    }
   },
   "source": [
    "```mermaid\n",
    "sequenceDiagram\n",
    "    participant Main\n",
    "    participant c as Counter\n",
    "\n",
    "    Main->>Counter: new Counter()\n",
    "    activate c\n",
    "    Main->>c: add(5)\n",
    "    c-->>Main: (void)\n",
    "    Main->>c: getCount()\n",
    "    c-->>Main: 5\n",
    "    deactivate c\n",
    "```"
   ]
  },
  {
   "cell_type": "markdown",
   "id": "c0666752",
   "metadata": {},
   "source": [
    "## Syntax of calling an instance method:"
   ]
  },
  {
   "cell_type": "markdown",
   "id": "71417a6f",
   "metadata": {},
   "source": [
    "```java\n",
    "// Suppose we have a class:\n",
    "public class Dog {\n",
    "    private String name;\n",
    "    public Dog(String name) {\n",
    "        this.name = name;\n",
    "    }\n",
    "    public void bark() {\n",
    "        System.out.println(name + \" says: Woof!\");\n",
    "    }\n",
    "}\n",
    "\n",
    "// To use it:\n",
    "Dog d = new Dog(\"Fido\");  // create an instance\n",
    "d.bark();                 // call the instance method on d\n",
    "```"
   ]
  },
  {
   "cell_type": "markdown",
   "id": "d6466ba5",
   "metadata": {},
   "source": [
    "- ```d.bark();``` invokes the ```bark``` method on the object ```d```.\n",
    "\n",
    "Inside ```bark```, ```this.name``` refers to ```d```’s ```name```.\n",
    "\n",
    "If the method takes parameters, you provide arguments:"
   ]
  },
  {
   "cell_type": "markdown",
   "id": "caa09136",
   "metadata": {},
   "source": [
    "```java\n",
    "public class Counter {\n",
    "    private int count;\n",
    "    public void add(int x) {\n",
    "        count += x;\n",
    "    }\n",
    "    public int getCount() {\n",
    "        return count;\n",
    "    }\n",
    "}\n",
    "\n",
    "// Use it:\n",
    "Counter c = new Counter();\n",
    "c.add(5);\n",
    "int val = c.getCount();  // returns 5\n",
    "```"
   ]
  },
  {
   "cell_type": "markdown",
   "id": "5e05ecb6",
   "metadata": {},
   "source": [
    "- ```c.add(5);``` — calls method ```add``` on ```c``` with argument ```5```.\n",
    "- ```c.getCount()```; — calls method that returns an ```int```."
   ]
  },
  {
   "cell_type": "markdown",
   "id": "45c5bc95",
   "metadata": {},
   "source": [
    "## Key points & common errors\n",
    "\n",
    "1. Must have an object reference\n",
    "\n",
    "- You can’t call an instance method from the class name (unless you have a static context). E.g., ```Dog.bark()```; is invalid (unless ```bark``` is static), because ```bark``` needs a specific object.\n",
    "\n",
    "2. Return values vs void methods\n",
    "\n",
    "- A method declared ```void``` doesn’t return anything; you just call it for its side effects (e.g. ```d.bark();```).\n",
    "- A non-void method returns a value; you can use that value in expressions, assign it to variables, etc. (e.g. ```int x = c.getCount();```).\n",
    "\n",
    "3. Passing arguments\n",
    "\n",
    "- If a method requires parameters, you must supply arguments of matching types when calling.\n",
    "\n",
    "4. Chaining (optional / advanced)\n",
    "\n",
    "- If a method returns an object (or the same object), you can chain calls. \n",
    "- E.g. ```obj.method1().method2();``` but this is only applicable when the return types line up."
   ]
  },
  {
   "cell_type": "markdown",
   "id": "e4c6dc8a",
   "metadata": {},
   "source": [
    "## Example: Turtle House\n",
    "\n",
    "Suppose you have a ```Turtle``` class that can move and draw:"
   ]
  },
  {
   "cell_type": "markdown",
   "id": "3798fbb7",
   "metadata": {},
   "source": [
    "```java\n",
    "public class Turtle {\n",
    "    private int x, y;\n",
    "    public void forward(int distance) {\n",
    "        // move the turtle forward by distance\n",
    "    }\n",
    "    public void turnLeft(int degrees) {\n",
    "        // rotate turtle direction\n",
    "    }\n",
    "    public void drawHouse() {\n",
    "        // uses forward and turnLeft to draw a house\n",
    "        forward(50);\n",
    "        turnLeft(90);\n",
    "        forward(50);\n",
    "        // etc.\n",
    "    }\n",
    "}\n",
    "```"
   ]
  },
  {
   "cell_type": "markdown",
   "id": "cc3469b8",
   "metadata": {},
   "source": [
    "You might use it like:"
   ]
  },
  {
   "cell_type": "markdown",
   "id": "f1635e34",
   "metadata": {},
   "source": [
    "```java\n",
    "Turtle t = new Turtle();\n",
    "t.drawHouse();   // high-level call, internally calls forward, turnLeft, etc.\n",
    "```"
   ]
  },
  {
   "cell_type": "markdown",
   "id": "83efc1de",
   "metadata": {},
   "source": [
    "Here, ```drawHouse``` is an instance method that, when invoked on ```t```, calls other instance methods (```forward```, ```turnLeft```) on the same object (implicitly ```this.forward(...)```s, etc.)."
   ]
  },
  {
   "cell_type": "markdown",
   "id": "451f2908",
   "metadata": {},
   "source": [
    "### Important Rules to Keep in Mind (AP Test-Specific):\n",
    "\n",
    "1. You must create an object before calling its instance methods. You cannot call an instance method directly on the class name (e.g., ```Dog.bark()``` won't work unless bark is static).\n",
    "2. The object reference cannot be ```null```. If you try to call an instance method on a null reference, you'll get a ```NullPointerException``` at runtime.\n",
    "3. Arguments must match parameter types exactly (or be compatible through widening conversion). The number, order, and types of arguments must match the method signature.\n",
    "4. ```void``` methods don't return values. You cannot assign the result of a ```void``` method to a variable or use it in an expression (e.g., ```int x = d.bark()```; is invalid if ```bark``` is ```void```).\n",
    "5. Method calls are evaluated left-to-right. When chaining methods (e.g., ```obj.method1().method2()```), Java evaluates from left to right, and each method must return an appropriate object for the next call.\n",
    "6. Instance methods can call other instance methods of the same class directly (without needing ```this.```), and they implicitly operate on the same object.\n",
    "7. Parameter names in the method definition don't matter when calling. When you call ```c.add(5)```, the actual argument ```5``` gets passed to whatever the parameter is named in the method definition.\n"
   ]
  },
  {
   "cell_type": "markdown",
   "id": "51d1dcba",
   "metadata": {},
   "source": [
    "## Bonus Example!"
   ]
  },
  {
   "cell_type": "markdown",
   "id": "4e35b36c",
   "metadata": {
    "vscode": {
     "languageId": "raw"
    }
   },
   "source": [
    "```java\n",
    "// Define the Joke class\n",
    "class Joke {\n",
    "    private String setup;\n",
    "    private String punchline;\n",
    "\n",
    "    public Joke(String setup, String punchline) {\n",
    "        this.setup = setup;\n",
    "        this.punchline = punchline;\n",
    "    }\n",
    "\n",
    "    public void tellJoke() {\n",
    "        System.out.println(setup);\n",
    "        System.out.println(punchline);\n",
    "    }\n",
    "}\n",
    "\n",
    "// Create and run a joke\n",
    "Joke myJoke = new Joke(\"Why don’t programmers like nature?\",\n",
    "                       \"Because it has too many bugs!\");\n",
    "\n",
    "myJoke.tellJoke();\n",
    "```"
   ]
  },
  {
   "cell_type": "markdown",
   "id": "55a1dd38",
   "metadata": {},
   "source": [
    "---\n",
    "## Homework: Assignment Overview\n",
    "\n",
    "**Due:** 10/16/2025  \n",
    "**Points:** 1\n",
    "\n",
    "In this assignment, you'll demonstrate your understanding of instance methods by creating a `Student` class that tracks grades and calculates statistics. You'll practice creating student objects, adding grades, calculating averages, and generating grade reports—all using instance methods that operate on each student's individual data.\n",
    "\n",
    "## Requirements\n",
    "Your program must include:\n",
    "- A `Student` class with at least 3 instance variables (name, total points, number of assignments)\n",
    "- A constructor that initializes the student's name and sets initial values\n",
    "- At least 2 void instance methods that modify the student's grades (`addGrade`, `printReport`)\n",
    "- At least 2 non-void instance methods that return calculated values (`getAverage`, `getLetterGrade`)\n",
    "- A main method that creates at least 2 Student instances and demonstrates all methods working independently\n",
    "\n",
    "## Homework Hack: Student Grade Tracker\n",
    "\n",
    "Create a `Student` class that manages a student's grades throughout a semester.\n",
    "\n",
    "**Required Instance Variables:**\n",
    "- `String name` - the student's name\n",
    "- `int totalPoints` - sum of all grade points earned\n",
    "- `int numAssignments` - count of assignments completed\n",
    "\n",
    "**Required Instance Methods:**\n",
    "- `addGrade(int points)` - void method that adds a grade and updates totals\n",
    "- `getAverage()` - returns the student's current average as a double\n",
    "- `getLetterGrade()` - returns a String letter grade (A, B, C, D, F) based on average\n",
    "- `printReport()` - void method that displays a formatted report of the student's performance\n",
    "\n",
    "**Grading Scale:**\n",
    "- A: 90-100\n",
    "- B: 80-89\n",
    "- C: 70-79\n",
    "- D: 60-69\n",
    "- F: below 60\n",
    "\n",
    "## Sample Output\n",
    "\n",
    "Here's an example of what your output should look like:\n",
    "\n",
    "```\n",
    "=== Student Grade Tracker System ===\n",
    "\n",
    "Creating student: Emma Rodriguez\n",
    "Student created successfully!\n",
    "\n",
    "--- Adding Grades for Emma ---\n",
    "Adding grade: 95 points\n",
    "Adding grade: 88 points\n",
    "Adding grade: 92 points\n",
    "Adding grade: 85 points\n",
    "\n",
    "--- Emma's Grade Report ---\n",
    "Student Name: Emma Rodriguez\n",
    "Total Points: 360\n",
    "Assignments Completed: 4\n",
    "Current Average: 90.0\n",
    "Letter Grade: A\n",
    "Status: Excellent work!\n",
    "\n",
    "========================================\n",
    "\n",
    "Creating student: James Wilson\n",
    "Student created successfully!\n",
    "\n",
    "--- Adding Grades for James ---\n",
    "Adding grade: 78 points\n",
    "Adding grade: 82 points\n",
    "Adding grade: 75 points\n",
    "\n",
    "--- James's Grade Report ---\n",
    "Student Name: James Wilson\n",
    "Total Points: 235\n",
    "Assignments Completed: 3\n",
    "Current Average: 78.33\n",
    "Letter Grade: C\n",
    "Status: Keep working hard!\n",
    "\n",
    "========================================\n",
    "\n",
    "Final Summary:\n",
    "Emma Rodriguez - Average: 90.0 (A)\n",
    "James Wilson - Average: 78.33 (C)\n",
    "```\n",
    "\n",
    "## Submission Instructions\n",
    "**Create a section on your personal blog documenting your completed Student Grade Tracker. Insert the rubric provided below and self-grade yourself with comments as to why you think you deserved that grade. Add screenshots/proof of your code as proof that you fulfilled all the rubric requirements in your blog along with a screenshot of the output (similar to the one provided above). After updating your blog, please submit a personal blog link of your completed assignment to the google form link inserted in the 'CSA Sign Up Sheet - Team Teach - Trimester 1' spreadsheet.**\n",
    "\n",
    "## Grading Rubric\n",
    "\n",
    "| Criteria | Percent Weight | Description |\n",
    "|----------|---------------|-------------|\n",
    "| **Functionality** | 40% | Program runs without errors, creates multiple Student objects, correctly adds grades, calculates averages, and assigns letter grades |\n",
    "| **Method Implementation** | 30% | Includes all required methods (addGrade, getAverage, getLetterGrade, printReport) that properly access/modify instance variables |\n",
    "| **Code Quality** | 20% | Clean code with meaningful variable names, proper constructor, and helpful comments explaining method purposes |\n",
    "| **Output & Presentation** | 10% | Clear, well-formatted output showing multiple students with different grades and formatted reports |\n",
    "\n",
    "## Tips for Getting Started\n",
    "- Review the Counter example from the lesson notes—your Student class will work similarly\n",
    "- Start by creating the Student class with the three instance variables\n",
    "- Write your constructor to initialize the name and set totalPoints and numAssignments to 0\n",
    "- Implement `addGrade()` first—it should add to totalPoints and increment numAssignments\n",
    "- Test each method before moving to the next one\n",
    "- Remember: Test your hack multiple times and add updates in small increments in case you run into an error\n",
    "\n",
    "## Tips for Success\n",
    "1. **Start simple** - Get your constructor and `addGrade()` working first before tackling calculations\n",
    "2. **Watch for division** - When calculating average, make sure to cast to double: `(double)totalPoints / numAssignments`\n",
    "3. **Test with multiple students** - Create at least 2 Student objects with different grades to show independence\n",
    "4. **Handle edge cases** - What happens if no assignments have been added yet? (Consider checking if numAssignments > 0)\n",
    "5. **Comment your code** - Explain what each method does, especially your letter grade logic\n",
    "6. **Format your output** - Use `System.out.printf()` or `String.format()` to display averages to 2 decimal places\n",
    "\n",
    "## Bonus Challenges (Optional)\n",
    "Want to go above and beyond? Try adding:\n",
    "- A `getHighestGrade()` method that tracks and returns the best individual grade (you'll need to store individual grades, not just the total)\n",
    "- A `getLowestGrade()` method for the lowest individual grade\n",
    "- A `dropLowestGrade()` method that removes the lowest grade from calculations\n",
    "- A `compareTo(Student other)` method that compares two students' averages\n",
    "- Weighted grades—allow some assignments to be worth more points than others\n",
    "- A `reset()` method that clears all grades and starts fresh\n",
    "- Error checking to prevent negative grades or invalid input\n",
    "\n",
    "**Good luck, and have fun tracking those grades!**\n",
    "\n",
    "---\n"
   ]
  }
 ],
 "metadata": {
  "kernelspec": {
   "display_name": "java (JJava/j!)",
   "language": "java",
   "name": "jbang-jjava"
  },
  "language_info": {
   "codemirror_mode": "java",
   "file_extension": ".jshell",
   "mimetype": "text/x-java-source",
   "name": "Java",
   "pygments_lexer": "java",
   "version": "21.0.8+9-Ubuntu-0ubuntu124.04.1"
  }
 },
 "nbformat": 4,
 "nbformat_minor": 5
}
